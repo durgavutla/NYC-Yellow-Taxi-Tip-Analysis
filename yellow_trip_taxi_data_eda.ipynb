{
  "nbformat": 4,
  "nbformat_minor": 5,
  "metadata": {
    "kernelspec": {
      "display_name": "Python 3",
      "language": "python",
      "name": "python3"
    },
    "language_info": {
      "codemirror_mode": {
        "name": "ipython",
        "version": 3
      },
      "file_extension": ".py",
      "mimetype": "text/x-python",
      "name": "python",
      "nbconvert_exporter": "python",
      "pygments_lexer": "ipython3",
      "version": "3.7.9"
    },
    "papermill": {
      "default_parameters": {},
      "duration": 42.191624,
      "end_time": "2021-04-18T17:53:42.488682",
      "environment_variables": {},
      "exception": null,
      "input_path": "__notebook__.ipynb",
      "output_path": "__notebook__.ipynb",
      "parameters": {},
      "start_time": "2021-04-18T17:53:00.297058",
      "version": "2.3.2"
    },
    "colab": {
      "name": "yellow-trip-taxi-data-eda.ipynb",
      "provenance": []
    }
  },
  "cells": [
    {
      "cell_type": "code",
      "metadata": {
        "execution": {
          "iopub.execute_input": "2021-04-18T17:53:06.008823Z",
          "iopub.status.busy": "2021-04-18T17:53:06.008080Z",
          "iopub.status.idle": "2021-04-18T17:53:06.886545Z",
          "shell.execute_reply": "2021-04-18T17:53:06.885885Z"
        },
        "id": "strong-cattle",
        "papermill": {
          "duration": 0.914876,
          "end_time": "2021-04-18T17:53:06.886711",
          "exception": false,
          "start_time": "2021-04-18T17:53:05.971835",
          "status": "completed"
        },
        "tags": []
      },
      "source": [
        "import matplotlib.pyplot as plt\n",
        "import numpy as np\n",
        "import pandas as pd\n",
        "import seaborn as sns\n",
        "%matplotlib inline\n",
        "import warnings\n",
        "warnings.filterwarnings('ignore')"
      ],
      "id": "strong-cattle",
      "execution_count": 1,
      "outputs": []
    },
    {
      "cell_type": "code",
      "metadata": {
        "execution": {
          "iopub.execute_input": "2021-04-18T17:53:06.946366Z",
          "iopub.status.busy": "2021-04-18T17:53:06.945735Z",
          "iopub.status.idle": "2021-04-18T17:53:07.930138Z",
          "shell.execute_reply": "2021-04-18T17:53:07.929236Z"
        },
        "id": "immediate-depression",
        "papermill": {
          "duration": 1.016016,
          "end_time": "2021-04-18T17:53:07.930275",
          "exception": false,
          "start_time": "2021-04-18T17:53:06.914259",
          "status": "completed"
        },
        "tags": [],
        "colab": {
          "base_uri": "https://localhost:8080/",
          "height": 217
        },
        "outputId": "81653930-0d44-40ac-bcf2-a171e2e03933"
      },
      "source": [
        "#lets load dataset\n",
        "\n",
        "data_xls = pd.read_csv('/content/yellow_tripdata_2020-04.csv')\n",
        "data_xls.head()"
      ],
      "id": "immediate-depression",
      "execution_count": 2,
      "outputs": [
        {
          "output_type": "execute_result",
          "data": {
            "text/html": [
              "<div>\n",
              "<style scoped>\n",
              "    .dataframe tbody tr th:only-of-type {\n",
              "        vertical-align: middle;\n",
              "    }\n",
              "\n",
              "    .dataframe tbody tr th {\n",
              "        vertical-align: top;\n",
              "    }\n",
              "\n",
              "    .dataframe thead th {\n",
              "        text-align: right;\n",
              "    }\n",
              "</style>\n",
              "<table border=\"1\" class=\"dataframe\">\n",
              "  <thead>\n",
              "    <tr style=\"text-align: right;\">\n",
              "      <th></th>\n",
              "      <th>VendorID</th>\n",
              "      <th>tpep_pickup_datetime</th>\n",
              "      <th>tpep_dropoff_datetime</th>\n",
              "      <th>passenger_count</th>\n",
              "      <th>trip_distance</th>\n",
              "      <th>RatecodeID</th>\n",
              "      <th>store_and_fwd_flag</th>\n",
              "      <th>PULocationID</th>\n",
              "      <th>DOLocationID</th>\n",
              "      <th>payment_type</th>\n",
              "      <th>fare_amount</th>\n",
              "      <th>extra</th>\n",
              "      <th>mta_tax</th>\n",
              "      <th>tip_amount</th>\n",
              "      <th>tolls_amount</th>\n",
              "      <th>improvement_surcharge</th>\n",
              "      <th>total_amount</th>\n",
              "      <th>congestion_surcharge</th>\n",
              "    </tr>\n",
              "  </thead>\n",
              "  <tbody>\n",
              "    <tr>\n",
              "      <th>0</th>\n",
              "      <td>1.0</td>\n",
              "      <td>2020-04-01 00:41:22</td>\n",
              "      <td>2020-04-01 01:01:53</td>\n",
              "      <td>1.0</td>\n",
              "      <td>1.20</td>\n",
              "      <td>1.0</td>\n",
              "      <td>N</td>\n",
              "      <td>41</td>\n",
              "      <td>24</td>\n",
              "      <td>2.0</td>\n",
              "      <td>5.5</td>\n",
              "      <td>0.5</td>\n",
              "      <td>0.5</td>\n",
              "      <td>0.00</td>\n",
              "      <td>0.0</td>\n",
              "      <td>0.3</td>\n",
              "      <td>6.80</td>\n",
              "      <td>0.0</td>\n",
              "    </tr>\n",
              "    <tr>\n",
              "      <th>1</th>\n",
              "      <td>1.0</td>\n",
              "      <td>2020-04-01 00:56:00</td>\n",
              "      <td>2020-04-01 01:09:25</td>\n",
              "      <td>1.0</td>\n",
              "      <td>3.40</td>\n",
              "      <td>1.0</td>\n",
              "      <td>N</td>\n",
              "      <td>95</td>\n",
              "      <td>197</td>\n",
              "      <td>1.0</td>\n",
              "      <td>12.5</td>\n",
              "      <td>0.5</td>\n",
              "      <td>0.5</td>\n",
              "      <td>2.75</td>\n",
              "      <td>0.0</td>\n",
              "      <td>0.3</td>\n",
              "      <td>16.55</td>\n",
              "      <td>0.0</td>\n",
              "    </tr>\n",
              "    <tr>\n",
              "      <th>2</th>\n",
              "      <td>1.0</td>\n",
              "      <td>2020-04-01 00:00:26</td>\n",
              "      <td>2020-04-01 00:09:25</td>\n",
              "      <td>1.0</td>\n",
              "      <td>2.80</td>\n",
              "      <td>1.0</td>\n",
              "      <td>N</td>\n",
              "      <td>237</td>\n",
              "      <td>137</td>\n",
              "      <td>1.0</td>\n",
              "      <td>10.0</td>\n",
              "      <td>3.0</td>\n",
              "      <td>0.5</td>\n",
              "      <td>1.00</td>\n",
              "      <td>0.0</td>\n",
              "      <td>0.3</td>\n",
              "      <td>14.80</td>\n",
              "      <td>2.5</td>\n",
              "    </tr>\n",
              "    <tr>\n",
              "      <th>3</th>\n",
              "      <td>1.0</td>\n",
              "      <td>2020-04-01 00:24:38</td>\n",
              "      <td>2020-04-01 00:34:38</td>\n",
              "      <td>0.0</td>\n",
              "      <td>2.60</td>\n",
              "      <td>1.0</td>\n",
              "      <td>N</td>\n",
              "      <td>68</td>\n",
              "      <td>142</td>\n",
              "      <td>1.0</td>\n",
              "      <td>10.0</td>\n",
              "      <td>3.0</td>\n",
              "      <td>0.5</td>\n",
              "      <td>1.00</td>\n",
              "      <td>0.0</td>\n",
              "      <td>0.3</td>\n",
              "      <td>14.80</td>\n",
              "      <td>2.5</td>\n",
              "    </tr>\n",
              "    <tr>\n",
              "      <th>4</th>\n",
              "      <td>2.0</td>\n",
              "      <td>2020-04-01 00:13:24</td>\n",
              "      <td>2020-04-01 00:18:26</td>\n",
              "      <td>1.0</td>\n",
              "      <td>1.44</td>\n",
              "      <td>1.0</td>\n",
              "      <td>Y</td>\n",
              "      <td>263</td>\n",
              "      <td>74</td>\n",
              "      <td>1.0</td>\n",
              "      <td>6.5</td>\n",
              "      <td>0.5</td>\n",
              "      <td>0.5</td>\n",
              "      <td>3.00</td>\n",
              "      <td>0.0</td>\n",
              "      <td>0.3</td>\n",
              "      <td>13.30</td>\n",
              "      <td>2.5</td>\n",
              "    </tr>\n",
              "  </tbody>\n",
              "</table>\n",
              "</div>"
            ],
            "text/plain": [
              "   VendorID tpep_pickup_datetime  ... total_amount  congestion_surcharge\n",
              "0       1.0  2020-04-01 00:41:22  ...         6.80                   0.0\n",
              "1       1.0  2020-04-01 00:56:00  ...        16.55                   0.0\n",
              "2       1.0  2020-04-01 00:00:26  ...        14.80                   2.5\n",
              "3       1.0  2020-04-01 00:24:38  ...        14.80                   2.5\n",
              "4       2.0  2020-04-01 00:13:24  ...        13.30                   2.5\n",
              "\n",
              "[5 rows x 18 columns]"
            ]
          },
          "metadata": {
            "tags": []
          },
          "execution_count": 2
        }
      ]
    },
    {
      "cell_type": "code",
      "metadata": {
        "execution": {
          "iopub.execute_input": "2021-04-18T17:53:07.993095Z",
          "iopub.status.busy": "2021-04-18T17:53:07.992059Z",
          "iopub.status.idle": "2021-04-18T17:53:07.996043Z",
          "shell.execute_reply": "2021-04-18T17:53:07.995512Z"
        },
        "papermill": {
          "duration": 0.03637,
          "end_time": "2021-04-18T17:53:07.996239",
          "exception": false,
          "start_time": "2021-04-18T17:53:07.959869",
          "status": "completed"
        },
        "tags": [],
        "colab": {
          "base_uri": "https://localhost:8080/"
        },
        "id": "naughty-jersey",
        "outputId": "8f62ec24-3db5-4417-8b43-5f835f7d03b2"
      },
      "source": [
        "#lets see shape of dataset\n",
        "\n",
        "data_xls.shape"
      ],
      "id": "naughty-jersey",
      "execution_count": 3,
      "outputs": [
        {
          "output_type": "execute_result",
          "data": {
            "text/plain": [
              "(237993, 18)"
            ]
          },
          "metadata": {
            "tags": []
          },
          "execution_count": 3
        }
      ]
    },
    {
      "cell_type": "code",
      "metadata": {
        "execution": {
          "iopub.execute_input": "2021-04-18T17:53:08.072946Z",
          "iopub.status.busy": "2021-04-18T17:53:08.072045Z",
          "iopub.status.idle": "2021-04-18T17:53:08.218874Z",
          "shell.execute_reply": "2021-04-18T17:53:08.218236Z"
        },
        "papermill": {
          "duration": 0.194933,
          "end_time": "2021-04-18T17:53:08.219020",
          "exception": false,
          "start_time": "2021-04-18T17:53:08.024087",
          "status": "completed"
        },
        "tags": [],
        "colab": {
          "base_uri": "https://localhost:8080/",
          "height": 307
        },
        "id": "hairy-grocery",
        "outputId": "5f89c571-040b-444a-90b4-ca31723c6bc8"
      },
      "source": [
        "#lets see decription of dataset\n",
        "\n",
        "data_xls.describe()"
      ],
      "id": "hairy-grocery",
      "execution_count": 4,
      "outputs": [
        {
          "output_type": "execute_result",
          "data": {
            "text/html": [
              "<div>\n",
              "<style scoped>\n",
              "    .dataframe tbody tr th:only-of-type {\n",
              "        vertical-align: middle;\n",
              "    }\n",
              "\n",
              "    .dataframe tbody tr th {\n",
              "        vertical-align: top;\n",
              "    }\n",
              "\n",
              "    .dataframe thead th {\n",
              "        text-align: right;\n",
              "    }\n",
              "</style>\n",
              "<table border=\"1\" class=\"dataframe\">\n",
              "  <thead>\n",
              "    <tr style=\"text-align: right;\">\n",
              "      <th></th>\n",
              "      <th>VendorID</th>\n",
              "      <th>passenger_count</th>\n",
              "      <th>trip_distance</th>\n",
              "      <th>RatecodeID</th>\n",
              "      <th>PULocationID</th>\n",
              "      <th>DOLocationID</th>\n",
              "      <th>payment_type</th>\n",
              "      <th>fare_amount</th>\n",
              "      <th>extra</th>\n",
              "      <th>mta_tax</th>\n",
              "      <th>tip_amount</th>\n",
              "      <th>tolls_amount</th>\n",
              "      <th>improvement_surcharge</th>\n",
              "      <th>total_amount</th>\n",
              "      <th>congestion_surcharge</th>\n",
              "    </tr>\n",
              "  </thead>\n",
              "  <tbody>\n",
              "    <tr>\n",
              "      <th>count</th>\n",
              "      <td>218480.000000</td>\n",
              "      <td>218480.000000</td>\n",
              "      <td>237993.000000</td>\n",
              "      <td>218480.000000</td>\n",
              "      <td>237993.000000</td>\n",
              "      <td>237993.000000</td>\n",
              "      <td>218480.000000</td>\n",
              "      <td>237993.000000</td>\n",
              "      <td>237993.000000</td>\n",
              "      <td>237993.000000</td>\n",
              "      <td>237993.000000</td>\n",
              "      <td>237993.000000</td>\n",
              "      <td>237993.000000</td>\n",
              "      <td>237993.000000</td>\n",
              "      <td>237993.000000</td>\n",
              "    </tr>\n",
              "    <tr>\n",
              "      <th>mean</th>\n",
              "      <td>1.564949</td>\n",
              "      <td>1.296764</td>\n",
              "      <td>4.039981</td>\n",
              "      <td>1.034081</td>\n",
              "      <td>154.908422</td>\n",
              "      <td>150.361414</td>\n",
              "      <td>1.425673</td>\n",
              "      <td>11.666027</td>\n",
              "      <td>1.066739</td>\n",
              "      <td>0.487000</td>\n",
              "      <td>1.530229</td>\n",
              "      <td>0.220504</td>\n",
              "      <td>0.296331</td>\n",
              "      <td>16.408621</td>\n",
              "      <td>1.927536</td>\n",
              "    </tr>\n",
              "    <tr>\n",
              "      <th>std</th>\n",
              "      <td>0.495765</td>\n",
              "      <td>0.983595</td>\n",
              "      <td>294.879052</td>\n",
              "      <td>0.865044</td>\n",
              "      <td>70.749496</td>\n",
              "      <td>74.474108</td>\n",
              "      <td>0.555915</td>\n",
              "      <td>11.728767</td>\n",
              "      <td>1.260170</td>\n",
              "      <td>0.094993</td>\n",
              "      <td>2.295523</td>\n",
              "      <td>1.342351</td>\n",
              "      <td>0.045429</td>\n",
              "      <td>13.155858</td>\n",
              "      <td>1.072839</td>\n",
              "    </tr>\n",
              "    <tr>\n",
              "      <th>min</th>\n",
              "      <td>1.000000</td>\n",
              "      <td>0.000000</td>\n",
              "      <td>0.000000</td>\n",
              "      <td>1.000000</td>\n",
              "      <td>1.000000</td>\n",
              "      <td>1.000000</td>\n",
              "      <td>1.000000</td>\n",
              "      <td>-118.000000</td>\n",
              "      <td>-4.500000</td>\n",
              "      <td>-0.500000</td>\n",
              "      <td>-5.000000</td>\n",
              "      <td>-19.870000</td>\n",
              "      <td>-0.300000</td>\n",
              "      <td>-138.170000</td>\n",
              "      <td>-2.500000</td>\n",
              "    </tr>\n",
              "    <tr>\n",
              "      <th>25%</th>\n",
              "      <td>1.000000</td>\n",
              "      <td>1.000000</td>\n",
              "      <td>0.950000</td>\n",
              "      <td>1.000000</td>\n",
              "      <td>97.000000</td>\n",
              "      <td>75.000000</td>\n",
              "      <td>1.000000</td>\n",
              "      <td>5.500000</td>\n",
              "      <td>0.000000</td>\n",
              "      <td>0.500000</td>\n",
              "      <td>0.000000</td>\n",
              "      <td>0.000000</td>\n",
              "      <td>0.300000</td>\n",
              "      <td>9.800000</td>\n",
              "      <td>2.500000</td>\n",
              "    </tr>\n",
              "    <tr>\n",
              "      <th>50%</th>\n",
              "      <td>2.000000</td>\n",
              "      <td>1.000000</td>\n",
              "      <td>1.740000</td>\n",
              "      <td>1.000000</td>\n",
              "      <td>143.000000</td>\n",
              "      <td>143.000000</td>\n",
              "      <td>1.000000</td>\n",
              "      <td>8.000000</td>\n",
              "      <td>0.500000</td>\n",
              "      <td>0.500000</td>\n",
              "      <td>1.000000</td>\n",
              "      <td>0.000000</td>\n",
              "      <td>0.300000</td>\n",
              "      <td>12.800000</td>\n",
              "      <td>2.500000</td>\n",
              "    </tr>\n",
              "    <tr>\n",
              "      <th>75%</th>\n",
              "      <td>2.000000</td>\n",
              "      <td>1.000000</td>\n",
              "      <td>3.400000</td>\n",
              "      <td>1.000000</td>\n",
              "      <td>234.000000</td>\n",
              "      <td>233.000000</td>\n",
              "      <td>2.000000</td>\n",
              "      <td>13.000000</td>\n",
              "      <td>2.500000</td>\n",
              "      <td>0.500000</td>\n",
              "      <td>2.460000</td>\n",
              "      <td>0.000000</td>\n",
              "      <td>0.300000</td>\n",
              "      <td>18.360000</td>\n",
              "      <td>2.500000</td>\n",
              "    </tr>\n",
              "    <tr>\n",
              "      <th>max</th>\n",
              "      <td>2.000000</td>\n",
              "      <td>7.000000</td>\n",
              "      <td>126501.770000</td>\n",
              "      <td>99.000000</td>\n",
              "      <td>265.000000</td>\n",
              "      <td>265.000000</td>\n",
              "      <td>4.000000</td>\n",
              "      <td>903.020000</td>\n",
              "      <td>7.000000</td>\n",
              "      <td>1.100000</td>\n",
              "      <td>117.280000</td>\n",
              "      <td>98.750000</td>\n",
              "      <td>0.300000</td>\n",
              "      <td>903.320000</td>\n",
              "      <td>2.500000</td>\n",
              "    </tr>\n",
              "  </tbody>\n",
              "</table>\n",
              "</div>"
            ],
            "text/plain": [
              "            VendorID  passenger_count  ...   total_amount  congestion_surcharge\n",
              "count  218480.000000    218480.000000  ...  237993.000000         237993.000000\n",
              "mean        1.564949         1.296764  ...      16.408621              1.927536\n",
              "std         0.495765         0.983595  ...      13.155858              1.072839\n",
              "min         1.000000         0.000000  ...    -138.170000             -2.500000\n",
              "25%         1.000000         1.000000  ...       9.800000              2.500000\n",
              "50%         2.000000         1.000000  ...      12.800000              2.500000\n",
              "75%         2.000000         1.000000  ...      18.360000              2.500000\n",
              "max         2.000000         7.000000  ...     903.320000              2.500000\n",
              "\n",
              "[8 rows x 15 columns]"
            ]
          },
          "metadata": {
            "tags": []
          },
          "execution_count": 4
        }
      ]
    },
    {
      "cell_type": "code",
      "metadata": {
        "execution": {
          "iopub.execute_input": "2021-04-18T17:53:08.280840Z",
          "iopub.status.busy": "2021-04-18T17:53:08.280229Z",
          "iopub.status.idle": "2021-04-18T17:53:08.371686Z",
          "shell.execute_reply": "2021-04-18T17:53:08.372143Z"
        },
        "papermill": {
          "duration": 0.12539,
          "end_time": "2021-04-18T17:53:08.372320",
          "exception": false,
          "start_time": "2021-04-18T17:53:08.246930",
          "status": "completed"
        },
        "tags": [],
        "colab": {
          "base_uri": "https://localhost:8080/"
        },
        "id": "tough-vermont",
        "outputId": "62f0e3fc-8d5f-457a-9b56-8e4aedfacec0"
      },
      "source": [
        "#lets check the datatypes and non-null count in dataset\n",
        "\n",
        "data_xls.info()"
      ],
      "id": "tough-vermont",
      "execution_count": 5,
      "outputs": [
        {
          "output_type": "stream",
          "text": [
            "<class 'pandas.core.frame.DataFrame'>\n",
            "RangeIndex: 237993 entries, 0 to 237992\n",
            "Data columns (total 18 columns):\n",
            " #   Column                 Non-Null Count   Dtype  \n",
            "---  ------                 --------------   -----  \n",
            " 0   VendorID               218480 non-null  float64\n",
            " 1   tpep_pickup_datetime   237993 non-null  object \n",
            " 2   tpep_dropoff_datetime  237993 non-null  object \n",
            " 3   passenger_count        218480 non-null  float64\n",
            " 4   trip_distance          237993 non-null  float64\n",
            " 5   RatecodeID             218480 non-null  float64\n",
            " 6   store_and_fwd_flag     218480 non-null  object \n",
            " 7   PULocationID           237993 non-null  int64  \n",
            " 8   DOLocationID           237993 non-null  int64  \n",
            " 9   payment_type           218480 non-null  float64\n",
            " 10  fare_amount            237993 non-null  float64\n",
            " 11  extra                  237993 non-null  float64\n",
            " 12  mta_tax                237993 non-null  float64\n",
            " 13  tip_amount             237993 non-null  float64\n",
            " 14  tolls_amount           237993 non-null  float64\n",
            " 15  improvement_surcharge  237993 non-null  float64\n",
            " 16  total_amount           237993 non-null  float64\n",
            " 17  congestion_surcharge   237993 non-null  float64\n",
            "dtypes: float64(13), int64(2), object(3)\n",
            "memory usage: 32.7+ MB\n"
          ],
          "name": "stdout"
        }
      ]
    },
    {
      "cell_type": "code",
      "metadata": {
        "execution": {
          "iopub.execute_input": "2021-04-18T17:53:08.434959Z",
          "iopub.status.busy": "2021-04-18T17:53:08.434363Z",
          "iopub.status.idle": "2021-04-18T17:53:08.758106Z",
          "shell.execute_reply": "2021-04-18T17:53:08.758576Z"
        },
        "papermill": {
          "duration": 0.357251,
          "end_time": "2021-04-18T17:53:08.758740",
          "exception": false,
          "start_time": "2021-04-18T17:53:08.401489",
          "status": "completed"
        },
        "tags": [],
        "colab": {
          "base_uri": "https://localhost:8080/"
        },
        "id": "resistant-institution",
        "outputId": "203fb836-1184-4ac6-c46e-7c5f6902db25"
      },
      "source": [
        "#lets check the unique values in the dataset\n",
        "\n",
        "data_xls.nunique()"
      ],
      "id": "resistant-institution",
      "execution_count": 6,
      "outputs": [
        {
          "output_type": "execute_result",
          "data": {
            "text/plain": [
              "VendorID                      2\n",
              "tpep_pickup_datetime     218054\n",
              "tpep_dropoff_datetime    218182\n",
              "passenger_count               8\n",
              "trip_distance              2952\n",
              "RatecodeID                    7\n",
              "store_and_fwd_flag            2\n",
              "PULocationID                250\n",
              "DOLocationID                259\n",
              "payment_type                  4\n",
              "fare_amount                5111\n",
              "extra                        18\n",
              "mta_tax                       4\n",
              "tip_amount                 1445\n",
              "tolls_amount                102\n",
              "improvement_surcharge         3\n",
              "total_amount               6673\n",
              "congestion_surcharge          3\n",
              "dtype: int64"
            ]
          },
          "metadata": {
            "tags": []
          },
          "execution_count": 6
        }
      ]
    },
    {
      "cell_type": "code",
      "metadata": {
        "execution": {
          "iopub.execute_input": "2021-04-18T17:53:08.824734Z",
          "iopub.status.busy": "2021-04-18T17:53:08.823856Z",
          "iopub.status.idle": "2021-04-18T17:53:08.904266Z",
          "shell.execute_reply": "2021-04-18T17:53:08.903668Z"
        },
        "papermill": {
          "duration": 0.113402,
          "end_time": "2021-04-18T17:53:08.904394",
          "exception": false,
          "start_time": "2021-04-18T17:53:08.790992",
          "status": "completed"
        },
        "tags": [],
        "colab": {
          "base_uri": "https://localhost:8080/"
        },
        "id": "homeless-windows",
        "outputId": "b46c6fe3-7fdd-4a1f-e0b4-f0163a4914a7"
      },
      "source": [
        "#lets check the number of null values in dataset\n",
        "\n",
        "data_xls.isnull().sum()"
      ],
      "id": "homeless-windows",
      "execution_count": 7,
      "outputs": [
        {
          "output_type": "execute_result",
          "data": {
            "text/plain": [
              "VendorID                 19513\n",
              "tpep_pickup_datetime         0\n",
              "tpep_dropoff_datetime        0\n",
              "passenger_count          19513\n",
              "trip_distance                0\n",
              "RatecodeID               19513\n",
              "store_and_fwd_flag       19513\n",
              "PULocationID                 0\n",
              "DOLocationID                 0\n",
              "payment_type             19513\n",
              "fare_amount                  0\n",
              "extra                        0\n",
              "mta_tax                      0\n",
              "tip_amount                   0\n",
              "tolls_amount                 0\n",
              "improvement_surcharge        0\n",
              "total_amount                 0\n",
              "congestion_surcharge         0\n",
              "dtype: int64"
            ]
          },
          "metadata": {
            "tags": []
          },
          "execution_count": 7
        }
      ]
    },
    {
      "cell_type": "markdown",
      "metadata": {
        "papermill": {
          "duration": 0.030083,
          "end_time": "2021-04-18T17:53:08.964640",
          "exception": false,
          "start_time": "2021-04-18T17:53:08.934557",
          "status": "completed"
        },
        "tags": [],
        "id": "applied-cisco"
      },
      "source": [
        "# **Exploratory Data Analysis**"
      ],
      "id": "applied-cisco"
    },
    {
      "cell_type": "markdown",
      "metadata": {
        "papermill": {
          "duration": 0.031017,
          "end_time": "2021-04-18T17:53:09.025749",
          "exception": false,
          "start_time": "2021-04-18T17:53:08.994732",
          "status": "completed"
        },
        "tags": [],
        "id": "metric-compound"
      },
      "source": [
        "**Univariate Analysis**"
      ],
      "id": "metric-compound"
    },
    {
      "cell_type": "code",
      "metadata": {
        "execution": {
          "iopub.execute_input": "2021-04-18T17:53:09.091836Z",
          "iopub.status.busy": "2021-04-18T17:53:09.089730Z",
          "iopub.status.idle": "2021-04-18T17:53:09.251747Z",
          "shell.execute_reply": "2021-04-18T17:53:09.251040Z"
        },
        "papermill": {
          "duration": 0.195268,
          "end_time": "2021-04-18T17:53:09.251886",
          "exception": false,
          "start_time": "2021-04-18T17:53:09.056618",
          "status": "completed"
        },
        "tags": [],
        "colab": {
          "base_uri": "https://localhost:8080/",
          "height": 314
        },
        "id": "stopped-newport",
        "outputId": "30ed1da4-952c-4d91-cfcf-1528bc046410"
      },
      "source": [
        "print('Number of null values in Vendor ID is:', data_xls.VendorID.isnull().sum())\n",
        "sns.countplot(x='VendorID', data=data_xls)"
      ],
      "id": "stopped-newport",
      "execution_count": 8,
      "outputs": [
        {
          "output_type": "stream",
          "text": [
            "Number of null values in Vendor ID is: 19513\n"
          ],
          "name": "stdout"
        },
        {
          "output_type": "execute_result",
          "data": {
            "text/plain": [
              "<matplotlib.axes._subplots.AxesSubplot at 0x7f6abab43710>"
            ]
          },
          "metadata": {
            "tags": []
          },
          "execution_count": 8
        },
        {
          "output_type": "display_data",
          "data": {
            "image/png": "[encoded data removed]",
            "text/plain": [
              "<Figure size 432x288 with 1 Axes>"
            ]
          },
          "metadata": {
            "tags": [],
            "needs_background": "light"
          }
        }
      ]
    },
    {
      "cell_type": "markdown",
      "metadata": {
        "papermill": {
          "duration": 0.03128,
          "end_time": "2021-04-18T17:53:09.314730",
          "exception": false,
          "start_time": "2021-04-18T17:53:09.283450",
          "status": "completed"
        },
        "tags": [],
        "id": "integral-retailer"
      },
      "source": [
        "From above we can observe that the number of vendor id with 2 is more than the vendor id 1. Also the null values in 'VendorID' feature is 19513"
      ],
      "id": "integral-retailer"
    },
    {
      "cell_type": "code",
      "metadata": {
        "execution": {
          "iopub.execute_input": "2021-04-18T17:53:09.382549Z",
          "iopub.status.busy": "2021-04-18T17:53:09.381864Z",
          "iopub.status.idle": "2021-04-18T17:53:09.551249Z",
          "shell.execute_reply": "2021-04-18T17:53:09.551756Z"
        },
        "papermill": {
          "duration": 0.205828,
          "end_time": "2021-04-18T17:53:09.551923",
          "exception": false,
          "start_time": "2021-04-18T17:53:09.346095",
          "status": "completed"
        },
        "tags": [],
        "colab": {
          "base_uri": "https://localhost:8080/",
          "height": 315
        },
        "id": "amended-summer",
        "outputId": "68c41ff5-de5a-4ff0-eb1d-804c276d2ac0"
      },
      "source": [
        "print('Number of null values in passenger count is:', data_xls.passenger_count.isnull().sum())\n",
        "sns.countplot(x='passenger_count', data=data_xls)"
      ],
      "id": "amended-summer",
      "execution_count": 9,
      "outputs": [
        {
          "output_type": "stream",
          "text": [
            "Number of null values in passenger count is: 19513\n"
          ],
          "name": "stdout"
        },
        {
          "output_type": "execute_result",
          "data": {
            "text/plain": [
              "<matplotlib.axes._subplots.AxesSubplot at 0x7f6abab56e10>"
            ]
          },
          "metadata": {
            "tags": []
          },
          "execution_count": 9
        },
        {
          "output_type": "display_data",
          "data": {
            "image/png": "[encoded data removed]",
            "text/plain": [
              "<Figure size 432x288 with 1 Axes>"
            ]
          },
          "metadata": {
            "tags": [],
            "needs_background": "light"
          }
        }
      ]
    },
    {
      "cell_type": "markdown",
      "metadata": {
        "papermill": {
          "duration": 0.032654,
          "end_time": "2021-04-18T17:53:09.617455",
          "exception": false,
          "start_time": "2021-04-18T17:53:09.584801",
          "status": "completed"
        },
        "tags": [],
        "id": "convenient-blake"
      },
      "source": [
        "From above plot we can observe that the single passenger rides were highest. Also the null values in 'passenger_count' attribute is 19513"
      ],
      "id": "convenient-blake"
    },
    {
      "cell_type": "code",
      "metadata": {
        "execution": {
          "iopub.execute_input": "2021-04-18T17:53:09.687318Z",
          "iopub.status.busy": "2021-04-18T17:53:09.686368Z",
          "iopub.status.idle": "2021-04-18T17:53:09.697774Z",
          "shell.execute_reply": "2021-04-18T17:53:09.698300Z"
        },
        "papermill": {
          "duration": 0.048181,
          "end_time": "2021-04-18T17:53:09.698466",
          "exception": false,
          "start_time": "2021-04-18T17:53:09.650285",
          "status": "completed"
        },
        "tags": [],
        "colab": {
          "base_uri": "https://localhost:8080/"
        },
        "id": "alike-chair",
        "outputId": "8242f489-54ae-4e8e-deab-64a8669c9a8c"
      },
      "source": [
        "print(data_xls.trip_distance.value_counts())"
      ],
      "id": "alike-chair",
      "execution_count": 10,
      "outputs": [
        {
          "output_type": "stream",
          "text": [
            "0.00     6223\n",
            "0.90     4647\n",
            "0.80     4515\n",
            "0.70     4501\n",
            "1.00     4474\n",
            "         ... \n",
            "24.72       1\n",
            "37.36       1\n",
            "36.70       1\n",
            "21.85       1\n",
            "38.74       1\n",
            "Name: trip_distance, Length: 2952, dtype: int64\n"
          ],
          "name": "stdout"
        }
      ]
    },
    {
      "cell_type": "markdown",
      "metadata": {
        "papermill": {
          "duration": 0.033355,
          "end_time": "2021-04-18T17:53:09.765397",
          "exception": false,
          "start_time": "2021-04-18T17:53:09.732042",
          "status": "completed"
        },
        "tags": [],
        "id": "floating-display"
      },
      "source": [
        "We see there are 6223 rides with zero miles distance"
      ],
      "id": "floating-display"
    },
    {
      "cell_type": "code",
      "metadata": {
        "execution": {
          "iopub.execute_input": "2021-04-18T17:53:09.850473Z",
          "iopub.status.busy": "2021-04-18T17:53:09.849519Z",
          "iopub.status.idle": "2021-04-18T17:53:10.024825Z",
          "shell.execute_reply": "2021-04-18T17:53:10.025835Z"
        },
        "papermill": {
          "duration": 0.219197,
          "end_time": "2021-04-18T17:53:10.026085",
          "exception": false,
          "start_time": "2021-04-18T17:53:09.806888",
          "status": "completed"
        },
        "tags": [],
        "colab": {
          "base_uri": "https://localhost:8080/"
        },
        "id": "parallel-occasion",
        "outputId": "703759f1-0de1-4245-f49d-198e69931cac"
      },
      "source": [
        "# we convert the pickup time and dropoff time to datetime object from object type\n",
        "\n",
        "data_xls.tpep_pickup_datetime=pd.to_datetime(data_xls.tpep_pickup_datetime)\n",
        "data_xls.tpep_dropoff_datetime=pd.to_datetime(data_xls.tpep_dropoff_datetime)\n",
        "print(data_xls.tpep_pickup_datetime.dtype)\n",
        "print(data_xls.tpep_dropoff_datetime.dtype)"
      ],
      "id": "parallel-occasion",
      "execution_count": 11,
      "outputs": [
        {
          "output_type": "stream",
          "text": [
            "datetime64[ns]\n",
            "datetime64[ns]\n"
          ],
          "name": "stdout"
        }
      ]
    },
    {
      "cell_type": "code",
      "metadata": {
        "execution": {
          "iopub.execute_input": "2021-04-18T17:53:10.100821Z",
          "iopub.status.busy": "2021-04-18T17:53:10.099928Z",
          "iopub.status.idle": "2021-04-18T17:53:10.400816Z",
          "shell.execute_reply": "2021-04-18T17:53:10.401306Z"
        },
        "papermill": {
          "duration": 0.341135,
          "end_time": "2021-04-18T17:53:10.401487",
          "exception": false,
          "start_time": "2021-04-18T17:53:10.060352",
          "status": "completed"
        },
        "tags": [],
        "colab": {
          "base_uri": "https://localhost:8080/",
          "height": 217
        },
        "id": "collect-connecticut",
        "outputId": "034ddb66-0ce8-4e44-d5f6-2fcddddb7592"
      },
      "source": [
        "# we create new features from pickup time and dropoff time to get more clear insights \n",
        "data_xls['pickup_day']=data_xls['tpep_pickup_datetime'].dt.day_name()\n",
        "data_xls['dropoff_day']=data_xls['tpep_dropoff_datetime'].dt.day_name()\n",
        "data_xls['pickup_hour']=data_xls['tpep_pickup_datetime'].dt.hour\n",
        "data_xls['dropoff_hour']=data_xls['tpep_dropoff_datetime'].dt.hour\n",
        "data_xls['pickup_month']=data_xls['tpep_pickup_datetime'].dt.month\n",
        "data_xls['dropoff_month']=data_xls['tpep_dropoff_datetime'].dt.month\n",
        "data_xls.head()"
      ],
      "id": "collect-connecticut",
      "execution_count": 12,
      "outputs": [
        {
          "output_type": "execute_result",
          "data": {
            "text/html": [
              "<div>\n",
              "<style scoped>\n",
              "    .dataframe tbody tr th:only-of-type {\n",
              "        vertical-align: middle;\n",
              "    }\n",
              "\n",
              "    .dataframe tbody tr th {\n",
              "        vertical-align: top;\n",
              "    }\n",
              "\n",
              "    .dataframe thead th {\n",
              "        text-align: right;\n",
              "    }\n",
              "</style>\n",
              "<table border=\"1\" class=\"dataframe\">\n",
              "  <thead>\n",
              "    <tr style=\"text-align: right;\">\n",
              "      <th></th>\n",
              "      <th>VendorID</th>\n",
              "      <th>tpep_pickup_datetime</th>\n",
              "      <th>tpep_dropoff_datetime</th>\n",
              "      <th>passenger_count</th>\n",
              "      <th>trip_distance</th>\n",
              "      <th>RatecodeID</th>\n",
              "      <th>store_and_fwd_flag</th>\n",
              "      <th>PULocationID</th>\n",
              "      <th>DOLocationID</th>\n",
              "      <th>payment_type</th>\n",
              "      <th>fare_amount</th>\n",
              "      <th>extra</th>\n",
              "      <th>mta_tax</th>\n",
              "      <th>tip_amount</th>\n",
              "      <th>tolls_amount</th>\n",
              "      <th>improvement_surcharge</th>\n",
              "      <th>total_amount</th>\n",
              "      <th>congestion_surcharge</th>\n",
              "      <th>pickup_day</th>\n",
              "      <th>dropoff_day</th>\n",
              "      <th>pickup_hour</th>\n",
              "      <th>dropoff_hour</th>\n",
              "      <th>pickup_month</th>\n",
              "      <th>dropoff_month</th>\n",
              "    </tr>\n",
              "  </thead>\n",
              "  <tbody>\n",
              "    <tr>\n",
              "      <th>0</th>\n",
              "      <td>1.0</td>\n",
              "      <td>2020-04-01 00:41:22</td>\n",
              "      <td>2020-04-01 01:01:53</td>\n",
              "      <td>1.0</td>\n",
              "      <td>1.20</td>\n",
              "      <td>1.0</td>\n",
              "      <td>N</td>\n",
              "      <td>41</td>\n",
              "      <td>24</td>\n",
              "      <td>2.0</td>\n",
              "      <td>5.5</td>\n",
              "      <td>0.5</td>\n",
              "      <td>0.5</td>\n",
              "      <td>0.00</td>\n",
              "      <td>0.0</td>\n",
              "      <td>0.3</td>\n",
              "      <td>6.80</td>\n",
              "      <td>0.0</td>\n",
              "      <td>Wednesday</td>\n",
              "      <td>Wednesday</td>\n",
              "      <td>0</td>\n",
              "      <td>1</td>\n",
              "      <td>4</td>\n",
              "      <td>4</td>\n",
              "    </tr>\n",
              "    <tr>\n",
              "      <th>1</th>\n",
              "      <td>1.0</td>\n",
              "      <td>2020-04-01 00:56:00</td>\n",
              "      <td>2020-04-01 01:09:25</td>\n",
              "      <td>1.0</td>\n",
              "      <td>3.40</td>\n",
              "      <td>1.0</td>\n",
              "      <td>N</td>\n",
              "      <td>95</td>\n",
              "      <td>197</td>\n",
              "      <td>1.0</td>\n",
              "      <td>12.5</td>\n",
              "      <td>0.5</td>\n",
              "      <td>0.5</td>\n",
              "      <td>2.75</td>\n",
              "      <td>0.0</td>\n",
              "      <td>0.3</td>\n",
              "      <td>16.55</td>\n",
              "      <td>0.0</td>\n",
              "      <td>Wednesday</td>\n",
              "      <td>Wednesday</td>\n",
              "      <td>0</td>\n",
              "      <td>1</td>\n",
              "      <td>4</td>\n",
              "      <td>4</td>\n",
              "    </tr>\n",
              "    <tr>\n",
              "      <th>2</th>\n",
              "      <td>1.0</td>\n",
              "      <td>2020-04-01 00:00:26</td>\n",
              "      <td>2020-04-01 00:09:25</td>\n",
              "      <td>1.0</td>\n",
              "      <td>2.80</td>\n",
              "      <td>1.0</td>\n",
              "      <td>N</td>\n",
              "      <td>237</td>\n",
              "      <td>137</td>\n",
              "      <td>1.0</td>\n",
              "      <td>10.0</td>\n",
              "      <td>3.0</td>\n",
              "      <td>0.5</td>\n",
              "      <td>1.00</td>\n",
              "      <td>0.0</td>\n",
              "      <td>0.3</td>\n",
              "      <td>14.80</td>\n",
              "      <td>2.5</td>\n",
              "      <td>Wednesday</td>\n",
              "      <td>Wednesday</td>\n",
              "      <td>0</td>\n",
              "      <td>0</td>\n",
              "      <td>4</td>\n",
              "      <td>4</td>\n",
              "    </tr>\n",
              "    <tr>\n",
              "      <th>3</th>\n",
              "      <td>1.0</td>\n",
              "      <td>2020-04-01 00:24:38</td>\n",
              "      <td>2020-04-01 00:34:38</td>\n",
              "      <td>0.0</td>\n",
              "      <td>2.60</td>\n",
              "      <td>1.0</td>\n",
              "      <td>N</td>\n",
              "      <td>68</td>\n",
              "      <td>142</td>\n",
              "      <td>1.0</td>\n",
              "      <td>10.0</td>\n",
              "      <td>3.0</td>\n",
              "      <td>0.5</td>\n",
              "      <td>1.00</td>\n",
              "      <td>0.0</td>\n",
              "      <td>0.3</td>\n",
              "      <td>14.80</td>\n",
              "      <td>2.5</td>\n",
              "      <td>Wednesday</td>\n",
              "      <td>Wednesday</td>\n",
              "      <td>0</td>\n",
              "      <td>0</td>\n",
              "      <td>4</td>\n",
              "      <td>4</td>\n",
              "    </tr>\n",
              "    <tr>\n",
              "      <th>4</th>\n",
              "      <td>2.0</td>\n",
              "      <td>2020-04-01 00:13:24</td>\n",
              "      <td>2020-04-01 00:18:26</td>\n",
              "      <td>1.0</td>\n",
              "      <td>1.44</td>\n",
              "      <td>1.0</td>\n",
              "      <td>Y</td>\n",
              "      <td>263</td>\n",
              "      <td>74</td>\n",
              "      <td>1.0</td>\n",
              "      <td>6.5</td>\n",
              "      <td>0.5</td>\n",
              "      <td>0.5</td>\n",
              "      <td>3.00</td>\n",
              "      <td>0.0</td>\n",
              "      <td>0.3</td>\n",
              "      <td>13.30</td>\n",
              "      <td>2.5</td>\n",
              "      <td>Wednesday</td>\n",
              "      <td>Wednesday</td>\n",
              "      <td>0</td>\n",
              "      <td>0</td>\n",
              "      <td>4</td>\n",
              "      <td>4</td>\n",
              "    </tr>\n",
              "  </tbody>\n",
              "</table>\n",
              "</div>"
            ],
            "text/plain": [
              "   VendorID tpep_pickup_datetime  ... pickup_month  dropoff_month\n",
              "0       1.0  2020-04-01 00:41:22  ...            4              4\n",
              "1       1.0  2020-04-01 00:56:00  ...            4              4\n",
              "2       1.0  2020-04-01 00:00:26  ...            4              4\n",
              "3       1.0  2020-04-01 00:24:38  ...            4              4\n",
              "4       2.0  2020-04-01 00:13:24  ...            4              4\n",
              "\n",
              "[5 rows x 24 columns]"
            ]
          },
          "metadata": {
            "tags": []
          },
          "execution_count": 12
        }
      ]
    },
    {
      "cell_type": "markdown",
      "metadata": {
        "papermill": {
          "duration": 0.033857,
          "end_time": "2021-04-18T17:53:10.469522",
          "exception": false,
          "start_time": "2021-04-18T17:53:10.435665",
          "status": "completed"
        },
        "tags": [],
        "id": "narrow-asthma"
      },
      "source": [
        "We have created the following features:\n",
        "\n",
        "* pickup_day and dropoff_day which will contain the name of the day on which the ride was taken.\n",
        "* pickup_day_no and dropoff_day_no which will contain the day number instead of characters with      Monday=0 and Sunday=6.\n",
        "* pickup_hour and dropoff_hour with an hour of the day in the 24-hour format.\n",
        "* pickup_month and dropoff_month with month number with January=1 and December=12\n",
        "\n",
        "We analyse the individual feature and get some insights"
      ],
      "id": "narrow-asthma"
    },
    {
      "cell_type": "code",
      "metadata": {
        "execution": {
          "iopub.execute_input": "2021-04-18T17:53:10.544820Z",
          "iopub.status.busy": "2021-04-18T17:53:10.543738Z",
          "iopub.status.idle": "2021-04-18T17:53:10.602709Z",
          "shell.execute_reply": "2021-04-18T17:53:10.602175Z"
        },
        "papermill": {
          "duration": 0.098746,
          "end_time": "2021-04-18T17:53:10.602838",
          "exception": false,
          "start_time": "2021-04-18T17:53:10.504092",
          "status": "completed"
        },
        "tags": [],
        "id": "recreational-valentine"
      },
      "source": [
        "# we drop the unecessary columns\n",
        "\n",
        "data_xls.drop(['tpep_pickup_datetime', 'tpep_dropoff_datetime'], axis=1, inplace=True)"
      ],
      "id": "recreational-valentine",
      "execution_count": 13,
      "outputs": []
    },
    {
      "cell_type": "code",
      "metadata": {
        "execution": {
          "iopub.execute_input": "2021-04-18T17:53:10.702022Z",
          "iopub.status.busy": "2021-04-18T17:53:10.701085Z",
          "iopub.status.idle": "2021-04-18T17:53:10.705406Z",
          "shell.execute_reply": "2021-04-18T17:53:10.704765Z"
        },
        "papermill": {
          "duration": 0.067547,
          "end_time": "2021-04-18T17:53:10.705539",
          "exception": false,
          "start_time": "2021-04-18T17:53:10.637992",
          "status": "completed"
        },
        "tags": [],
        "colab": {
          "base_uri": "https://localhost:8080/",
          "height": 217
        },
        "id": "independent-israeli",
        "outputId": "28984b73-9f60-4e9c-9abf-dfb0d22699bf"
      },
      "source": [
        "data_xls.head()"
      ],
      "id": "independent-israeli",
      "execution_count": 14,
      "outputs": [
        {
          "output_type": "execute_result",
          "data": {
            "text/html": [
              "<div>\n",
              "<style scoped>\n",
              "    .dataframe tbody tr th:only-of-type {\n",
              "        vertical-align: middle;\n",
              "    }\n",
              "\n",
              "    .dataframe tbody tr th {\n",
              "        vertical-align: top;\n",
              "    }\n",
              "\n",
              "    .dataframe thead th {\n",
              "        text-align: right;\n",
              "    }\n",
              "</style>\n",
              "<table border=\"1\" class=\"dataframe\">\n",
              "  <thead>\n",
              "    <tr style=\"text-align: right;\">\n",
              "      <th></th>\n",
              "      <th>VendorID</th>\n",
              "      <th>passenger_count</th>\n",
              "      <th>trip_distance</th>\n",
              "      <th>RatecodeID</th>\n",
              "      <th>store_and_fwd_flag</th>\n",
              "      <th>PULocationID</th>\n",
              "      <th>DOLocationID</th>\n",
              "      <th>payment_type</th>\n",
              "      <th>fare_amount</th>\n",
              "      <th>extra</th>\n",
              "      <th>mta_tax</th>\n",
              "      <th>tip_amount</th>\n",
              "      <th>tolls_amount</th>\n",
              "      <th>improvement_surcharge</th>\n",
              "      <th>total_amount</th>\n",
              "      <th>congestion_surcharge</th>\n",
              "      <th>pickup_day</th>\n",
              "      <th>dropoff_day</th>\n",
              "      <th>pickup_hour</th>\n",
              "      <th>dropoff_hour</th>\n",
              "      <th>pickup_month</th>\n",
              "      <th>dropoff_month</th>\n",
              "    </tr>\n",
              "  </thead>\n",
              "  <tbody>\n",
              "    <tr>\n",
              "      <th>0</th>\n",
              "      <td>1.0</td>\n",
              "      <td>1.0</td>\n",
              "      <td>1.20</td>\n",
              "      <td>1.0</td>\n",
              "      <td>N</td>\n",
              "      <td>41</td>\n",
              "      <td>24</td>\n",
              "      <td>2.0</td>\n",
              "      <td>5.5</td>\n",
              "      <td>0.5</td>\n",
              "      <td>0.5</td>\n",
              "      <td>0.00</td>\n",
              "      <td>0.0</td>\n",
              "      <td>0.3</td>\n",
              "      <td>6.80</td>\n",
              "      <td>0.0</td>\n",
              "      <td>Wednesday</td>\n",
              "      <td>Wednesday</td>\n",
              "      <td>0</td>\n",
              "      <td>1</td>\n",
              "      <td>4</td>\n",
              "      <td>4</td>\n",
              "    </tr>\n",
              "    <tr>\n",
              "      <th>1</th>\n",
              "      <td>1.0</td>\n",
              "      <td>1.0</td>\n",
              "      <td>3.40</td>\n",
              "      <td>1.0</td>\n",
              "      <td>N</td>\n",
              "      <td>95</td>\n",
              "      <td>197</td>\n",
              "      <td>1.0</td>\n",
              "      <td>12.5</td>\n",
              "      <td>0.5</td>\n",
              "      <td>0.5</td>\n",
              "      <td>2.75</td>\n",
              "      <td>0.0</td>\n",
              "      <td>0.3</td>\n",
              "      <td>16.55</td>\n",
              "      <td>0.0</td>\n",
              "      <td>Wednesday</td>\n",
              "      <td>Wednesday</td>\n",
              "      <td>0</td>\n",
              "      <td>1</td>\n",
              "      <td>4</td>\n",
              "      <td>4</td>\n",
              "    </tr>\n",
              "    <tr>\n",
              "      <th>2</th>\n",
              "      <td>1.0</td>\n",
              "      <td>1.0</td>\n",
              "      <td>2.80</td>\n",
              "      <td>1.0</td>\n",
              "      <td>N</td>\n",
              "      <td>237</td>\n",
              "      <td>137</td>\n",
              "      <td>1.0</td>\n",
              "      <td>10.0</td>\n",
              "      <td>3.0</td>\n",
              "      <td>0.5</td>\n",
              "      <td>1.00</td>\n",
              "      <td>0.0</td>\n",
              "      <td>0.3</td>\n",
              "      <td>14.80</td>\n",
              "      <td>2.5</td>\n",
              "      <td>Wednesday</td>\n",
              "      <td>Wednesday</td>\n",
              "      <td>0</td>\n",
              "      <td>0</td>\n",
              "      <td>4</td>\n",
              "      <td>4</td>\n",
              "    </tr>\n",
              "    <tr>\n",
              "      <th>3</th>\n",
              "      <td>1.0</td>\n",
              "      <td>0.0</td>\n",
              "      <td>2.60</td>\n",
              "      <td>1.0</td>\n",
              "      <td>N</td>\n",
              "      <td>68</td>\n",
              "      <td>142</td>\n",
              "      <td>1.0</td>\n",
              "      <td>10.0</td>\n",
              "      <td>3.0</td>\n",
              "      <td>0.5</td>\n",
              "      <td>1.00</td>\n",
              "      <td>0.0</td>\n",
              "      <td>0.3</td>\n",
              "      <td>14.80</td>\n",
              "      <td>2.5</td>\n",
              "      <td>Wednesday</td>\n",
              "      <td>Wednesday</td>\n",
              "      <td>0</td>\n",
              "      <td>0</td>\n",
              "      <td>4</td>\n",
              "      <td>4</td>\n",
              "    </tr>\n",
              "    <tr>\n",
              "      <th>4</th>\n",
              "      <td>2.0</td>\n",
              "      <td>1.0</td>\n",
              "      <td>1.44</td>\n",
              "      <td>1.0</td>\n",
              "      <td>Y</td>\n",
              "      <td>263</td>\n",
              "      <td>74</td>\n",
              "      <td>1.0</td>\n",
              "      <td>6.5</td>\n",
              "      <td>0.5</td>\n",
              "      <td>0.5</td>\n",
              "      <td>3.00</td>\n",
              "      <td>0.0</td>\n",
              "      <td>0.3</td>\n",
              "      <td>13.30</td>\n",
              "      <td>2.5</td>\n",
              "      <td>Wednesday</td>\n",
              "      <td>Wednesday</td>\n",
              "      <td>0</td>\n",
              "      <td>0</td>\n",
              "      <td>4</td>\n",
              "      <td>4</td>\n",
              "    </tr>\n",
              "  </tbody>\n",
              "</table>\n",
              "</div>"
            ],
            "text/plain": [
              "   VendorID  passenger_count  ...  pickup_month  dropoff_month\n",
              "0       1.0              1.0  ...             4              4\n",
              "1       1.0              1.0  ...             4              4\n",
              "2       1.0              1.0  ...             4              4\n",
              "3       1.0              0.0  ...             4              4\n",
              "4       2.0              1.0  ...             4              4\n",
              "\n",
              "[5 rows x 22 columns]"
            ]
          },
          "metadata": {
            "tags": []
          },
          "execution_count": 14
        }
      ]
    },
    {
      "cell_type": "code",
      "metadata": {
        "execution": {
          "iopub.execute_input": "2021-04-18T17:53:10.797768Z",
          "iopub.status.busy": "2021-04-18T17:53:10.797185Z",
          "iopub.status.idle": "2021-04-18T17:53:11.588814Z",
          "shell.execute_reply": "2021-04-18T17:53:11.589311Z"
        },
        "papermill": {
          "duration": 0.848469,
          "end_time": "2021-04-18T17:53:11.589471",
          "exception": false,
          "start_time": "2021-04-18T17:53:10.741002",
          "status": "completed"
        },
        "tags": [],
        "colab": {
          "base_uri": "https://localhost:8080/",
          "height": 351
        },
        "id": "solid-genealogy",
        "outputId": "4c7b8cc5-9b46-405b-d5e8-9d9e4fe5cd1a"
      },
      "source": [
        "#lets plot the pickup days and drop off days count and see \n",
        "\n",
        "figure,(ax1,ax2)=plt.subplots(ncols=2,figsize=(20,5))\n",
        "ax1.set_title('Pickup Days')\n",
        "ax=sns.countplot(x=\"pickup_day\",data=data_xls,ax=ax1)\n",
        "ax2.set_title('Dropoff Days')\n",
        "ax=sns.countplot(x=\"dropoff_day\",data=data_xls,ax=ax2)"
      ],
      "id": "solid-genealogy",
      "execution_count": 15,
      "outputs": [
        {
          "output_type": "display_data",
          "data": {
            "image/png": "[encoded data removed]",
            "text/plain": [
              "<Figure size 1440x360 with 2 Axes>"
            ]
          },
          "metadata": {
            "tags": [],
            "needs_background": "light"
          }
        }
      ]
    },
    {
      "cell_type": "markdown",
      "metadata": {
        "papermill": {
          "duration": 0.036393,
          "end_time": "2021-04-18T17:53:11.662833",
          "exception": false,
          "start_time": "2021-04-18T17:53:11.626440",
          "status": "completed"
        },
        "tags": [],
        "id": "first-brisbane"
      },
      "source": [
        "We can clearly see that wednesday and thursday seem to be the busiest days for both pickup and drop off"
      ],
      "id": "first-brisbane"
    },
    {
      "cell_type": "code",
      "metadata": {
        "execution": {
          "iopub.execute_input": "2021-04-18T17:53:11.783726Z",
          "iopub.status.busy": "2021-04-18T17:53:11.783082Z",
          "iopub.status.idle": "2021-04-18T17:53:12.327739Z",
          "shell.execute_reply": "2021-04-18T17:53:12.327226Z"
        },
        "papermill": {
          "duration": 0.627675,
          "end_time": "2021-04-18T17:53:12.327891",
          "exception": false,
          "start_time": "2021-04-18T17:53:11.700216",
          "status": "completed"
        },
        "tags": [],
        "colab": {
          "base_uri": "https://localhost:8080/",
          "height": 351
        },
        "id": "italic-casting",
        "outputId": "692efec5-bc73-40f2-f4c7-faf59bc1cf36"
      },
      "source": [
        "#lets plot the pickup hour and drop hour count and see\n",
        "\n",
        "figure,(ax3,ax4)=plt.subplots(ncols=2,figsize=(20,5))\n",
        "ax3.set_title('Pickup Hour')\n",
        "ax=sns.countplot(x=\"pickup_hour\",data=data_xls,ax=ax3)\n",
        "ax4.set_title('Dropoff Hour')\n",
        "ax=sns.countplot(x=\"dropoff_hour\",data=data_xls,ax=ax4)"
      ],
      "id": "italic-casting",
      "execution_count": 16,
      "outputs": [
        {
          "output_type": "display_data",
          "data": {
            "image/png": "[encoded data removed]",
            "text/plain": [
              "<Figure size 1440x360 with 2 Axes>"
            ]
          },
          "metadata": {
            "tags": [],
            "needs_background": "light"
          }
        }
      ]
    },
    {
      "cell_type": "markdown",
      "metadata": {
        "papermill": {
          "duration": 0.038274,
          "end_time": "2021-04-18T17:53:12.404383",
          "exception": false,
          "start_time": "2021-04-18T17:53:12.366109",
          "status": "completed"
        },
        "tags": [],
        "id": "blessed-basin"
      },
      "source": [
        "We can see that - \n",
        "* There is a sudden rise in the pickup hours from 6AM and it continued till 8AM. This is may be due to early morning office hours\n",
        "* Evening between 3PM to 5PM seem to be the busiest hours."
      ],
      "id": "blessed-basin"
    },
    {
      "cell_type": "code",
      "metadata": {
        "execution": {
          "iopub.execute_input": "2021-04-18T17:53:12.532921Z",
          "iopub.status.busy": "2021-04-18T17:53:12.523879Z",
          "iopub.status.idle": "2021-04-18T17:53:12.748517Z",
          "shell.execute_reply": "2021-04-18T17:53:12.747859Z"
        },
        "papermill": {
          "duration": 0.306166,
          "end_time": "2021-04-18T17:53:12.748647",
          "exception": false,
          "start_time": "2021-04-18T17:53:12.442481",
          "status": "completed"
        },
        "tags": [],
        "colab": {
          "base_uri": "https://localhost:8080/",
          "height": 351
        },
        "id": "approximate-mason",
        "outputId": "03cd0818-34ad-4e4a-87e1-b8c511422b20"
      },
      "source": [
        "#lets plot the pickup month and dropoff month count\n",
        "\n",
        "figure,(ax5,ax6)=plt.subplots(ncols=2,figsize=(20,5))\n",
        "ax5.set_title('Pickup Month')\n",
        "ax=sns.countplot(x=\"pickup_month\",data=data_xls,ax=ax5)\n",
        "ax6.set_title('Dropoff Month')\n",
        "ax=sns.countplot(x=\"dropoff_month\",data=data_xls,ax=ax6)"
      ],
      "id": "approximate-mason",
      "execution_count": 17,
      "outputs": [
        {
          "output_type": "display_data",
          "data": {
            "image/png": "[encoded data removed]",
            "text/plain": [
              "<Figure size 1440x360 with 2 Axes>"
            ]
          },
          "metadata": {
            "tags": [],
            "needs_background": "light"
          }
        }
      ]
    },
    {
      "cell_type": "markdown",
      "metadata": {
        "papermill": {
          "duration": 0.038049,
          "end_time": "2021-04-18T17:53:12.825452",
          "exception": false,
          "start_time": "2021-04-18T17:53:12.787403",
          "status": "completed"
        },
        "tags": [],
        "id": "unlikely-synthetic"
      },
      "source": [
        "We can see that all the rides in the given dataset took place in April month"
      ],
      "id": "unlikely-synthetic"
    },
    {
      "cell_type": "code",
      "metadata": {
        "execution": {
          "iopub.execute_input": "2021-04-18T17:53:12.908229Z",
          "iopub.status.busy": "2021-04-18T17:53:12.907384Z",
          "iopub.status.idle": "2021-04-18T17:53:13.072378Z",
          "shell.execute_reply": "2021-04-18T17:53:13.071784Z"
        },
        "papermill": {
          "duration": 0.209004,
          "end_time": "2021-04-18T17:53:13.072521",
          "exception": false,
          "start_time": "2021-04-18T17:53:12.863517",
          "status": "completed"
        },
        "tags": [],
        "colab": {
          "base_uri": "https://localhost:8080/",
          "height": 456
        },
        "id": "phantom-valuation",
        "outputId": "a5f65496-51b9-417a-bfee-0bb50f73a56e"
      },
      "source": [
        "#lets plot the RatecodeID\n",
        "\n",
        "print(data_xls.RatecodeID.value_counts())\n",
        "print('Number of null values are:',data_xls.RatecodeID.isnull().sum())\n",
        "sns.countplot(x='RatecodeID', data=data_xls)"
      ],
      "id": "phantom-valuation",
      "execution_count": 18,
      "outputs": [
        {
          "output_type": "stream",
          "text": [
            "1.0     216080\n",
            "5.0       1025\n",
            "2.0       1025\n",
            "4.0        175\n",
            "3.0        158\n",
            "99.0        15\n",
            "6.0          2\n",
            "Name: RatecodeID, dtype: int64\n",
            "Number of null values are: 19513\n"
          ],
          "name": "stdout"
        },
        {
          "output_type": "execute_result",
          "data": {
            "text/plain": [
              "<matplotlib.axes._subplots.AxesSubplot at 0x7f6ab84ce7d0>"
            ]
          },
          "metadata": {
            "tags": []
          },
          "execution_count": 18
        },
        {
          "output_type": "display_data",
          "data": {
            "image/png": "[encoded data removed]",
            "text/plain": [
              "<Figure size 432x288 with 1 Axes>"
            ]
          },
          "metadata": {
            "tags": [],
            "needs_background": "light"
          }
        }
      ]
    },
    {
      "cell_type": "markdown",
      "metadata": {
        "papermill": {
          "duration": 0.040342,
          "end_time": "2021-04-18T17:53:13.153567",
          "exception": false,
          "start_time": "2021-04-18T17:53:13.113225",
          "status": "completed"
        },
        "tags": [],
        "id": "leading-grave"
      },
      "source": [
        "We can clearly see that RatecodeID 1 i.e., standard rate is overwhelmingly more than others."
      ],
      "id": "leading-grave"
    },
    {
      "cell_type": "code",
      "metadata": {
        "execution": {
          "iopub.execute_input": "2021-04-18T17:53:13.287526Z",
          "iopub.status.busy": "2021-04-18T17:53:13.286775Z",
          "iopub.status.idle": "2021-04-18T17:53:13.657157Z",
          "shell.execute_reply": "2021-04-18T17:53:13.656454Z"
        },
        "papermill": {
          "duration": 0.46257,
          "end_time": "2021-04-18T17:53:13.657295",
          "exception": false,
          "start_time": "2021-04-18T17:53:13.194725",
          "status": "completed"
        },
        "tags": [],
        "colab": {
          "base_uri": "https://localhost:8080/",
          "height": 351
        },
        "id": "median-charge",
        "outputId": "d3f7d12a-7348-47c0-fa34-90049b6bf777"
      },
      "source": [
        "# Lets plot store and forward flag \n",
        "\n",
        "print(data_xls.store_and_fwd_flag.value_counts())\n",
        "sns.countplot(x='store_and_fwd_flag', data=data_xls)"
      ],
      "id": "median-charge",
      "execution_count": 19,
      "outputs": [
        {
          "output_type": "stream",
          "text": [
            "N    216629\n",
            "Y      1851\n",
            "Name: store_and_fwd_flag, dtype: int64\n"
          ],
          "name": "stdout"
        },
        {
          "output_type": "execute_result",
          "data": {
            "text/plain": [
              "<matplotlib.axes._subplots.AxesSubplot at 0x7f6ab83ee390>"
            ]
          },
          "metadata": {
            "tags": []
          },
          "execution_count": 19
        },
        {
          "output_type": "display_data",
          "data": {
            "image/png": "[encoded data removed]",
            "text/plain": [
              "<Figure size 432x288 with 1 Axes>"
            ]
          },
          "metadata": {
            "tags": [],
            "needs_background": "light"
          }
        }
      ]
    },
    {
      "cell_type": "markdown",
      "metadata": {
        "papermill": {
          "duration": 0.042159,
          "end_time": "2021-04-18T17:53:13.742092",
          "exception": false,
          "start_time": "2021-04-18T17:53:13.699933",
          "status": "completed"
        },
        "tags": [],
        "id": "automated-jacob"
      },
      "source": [
        "We can see that a overwhelming number of trips are not a store and forward trip"
      ],
      "id": "automated-jacob"
    },
    {
      "cell_type": "code",
      "metadata": {
        "execution": {
          "iopub.execute_input": "2021-04-18T17:53:13.832920Z",
          "iopub.status.busy": "2021-04-18T17:53:13.832274Z",
          "iopub.status.idle": "2021-04-18T17:53:13.981324Z",
          "shell.execute_reply": "2021-04-18T17:53:13.980820Z"
        },
        "papermill": {
          "duration": 0.197194,
          "end_time": "2021-04-18T17:53:13.981469",
          "exception": false,
          "start_time": "2021-04-18T17:53:13.784275",
          "status": "completed"
        },
        "tags": [],
        "colab": {
          "base_uri": "https://localhost:8080/",
          "height": 386
        },
        "id": "improved-senate",
        "outputId": "c41520da-9c28-4ec3-b6de-7f12154c5ca7"
      },
      "source": [
        "# lets plot the payment type \n",
        "\n",
        "print(data_xls.payment_type.value_counts())\n",
        "sns.countplot(x='payment_type', data=data_xls)"
      ],
      "id": "improved-senate",
      "execution_count": 20,
      "outputs": [
        {
          "output_type": "stream",
          "text": [
            "1.0    131151\n",
            "2.0     83038\n",
            "3.0      2910\n",
            "4.0      1381\n",
            "Name: payment_type, dtype: int64\n"
          ],
          "name": "stdout"
        },
        {
          "output_type": "execute_result",
          "data": {
            "text/plain": [
              "<matplotlib.axes._subplots.AxesSubplot at 0x7f6ab83e4f90>"
            ]
          },
          "metadata": {
            "tags": []
          },
          "execution_count": 20
        },
        {
          "output_type": "display_data",
          "data": {
            "image/png": "[encoded data removed]",
            "text/plain": [
              "<Figure size 432x288 with 1 Axes>"
            ]
          },
          "metadata": {
            "tags": [],
            "needs_background": "light"
          }
        }
      ]
    },
    {
      "cell_type": "markdown",
      "metadata": {
        "papermill": {
          "duration": 0.044447,
          "end_time": "2021-04-18T17:53:14.069323",
          "exception": false,
          "start_time": "2021-04-18T17:53:14.024876",
          "status": "completed"
        },
        "tags": [],
        "id": "aerial-retreat"
      },
      "source": [
        "We can see that passengers paid through the payment mode of Credit card(1.0) more than any other payment mode. So giving promo offers in credit card payment may attract more passengers to travel."
      ],
      "id": "aerial-retreat"
    },
    {
      "cell_type": "code",
      "metadata": {
        "execution": {
          "iopub.execute_input": "2021-04-18T17:53:14.160743Z",
          "iopub.status.busy": "2021-04-18T17:53:14.160114Z",
          "iopub.status.idle": "2021-04-18T17:53:21.831854Z",
          "shell.execute_reply": "2021-04-18T17:53:21.832374Z"
        },
        "papermill": {
          "duration": 7.72041,
          "end_time": "2021-04-18T17:53:21.832545",
          "exception": false,
          "start_time": "2021-04-18T17:53:14.112135",
          "status": "completed"
        },
        "tags": [],
        "colab": {
          "base_uri": "https://localhost:8080/",
          "height": 515
        },
        "id": "sensitive-inventory",
        "outputId": "d4d29e64-e4d7-48e6-e068-814fa255fc8d"
      },
      "source": [
        "# lets plot the total amount\n",
        "\n",
        "plt.figure(figsize=(12,8))\n",
        "sns.histplot(data=data_xls, x='total_amount')"
      ],
      "id": "sensitive-inventory",
      "execution_count": 21,
      "outputs": [
        {
          "output_type": "execute_result",
          "data": {
            "text/plain": [
              "<matplotlib.axes._subplots.AxesSubplot at 0x7f6ab839d790>"
            ]
          },
          "metadata": {
            "tags": []
          },
          "execution_count": 21
        },
        {
          "output_type": "display_data",
          "data": {
            "image/png": "[encoded data removed]",
            "text/plain": [
              "<Figure size 864x576 with 1 Axes>"
            ]
          },
          "metadata": {
            "tags": [],
            "needs_background": "light"
          }
        }
      ]
    },
    {
      "cell_type": "markdown",
      "metadata": {
        "papermill": {
          "duration": 0.045571,
          "end_time": "2021-04-18T17:53:21.923211",
          "exception": false,
          "start_time": "2021-04-18T17:53:21.877640",
          "status": "completed"
        },
        "tags": [],
        "id": "invalid-hunter"
      },
      "source": [
        "We can see the total amount is almost less than 100 for almost all trips. So keeping the total amount of the trips below 100 may increase the number of trips."
      ],
      "id": "invalid-hunter"
    },
    {
      "cell_type": "code",
      "metadata": {
        "execution": {
          "iopub.execute_input": "2021-04-18T17:53:22.020493Z",
          "iopub.status.busy": "2021-04-18T17:53:22.019747Z",
          "iopub.status.idle": "2021-04-18T17:53:25.227245Z",
          "shell.execute_reply": "2021-04-18T17:53:25.226618Z"
        },
        "papermill": {
          "duration": 3.25822,
          "end_time": "2021-04-18T17:53:25.227398",
          "exception": false,
          "start_time": "2021-04-18T17:53:21.969178",
          "status": "completed"
        },
        "tags": [],
        "colab": {
          "base_uri": "https://localhost:8080/",
          "height": 515
        },
        "id": "broken-slide",
        "outputId": "b155708e-503a-4894-eb5f-eaab2af66fec"
      },
      "source": [
        "# lets plot the tips amount\n",
        "\n",
        "plt.figure(figsize=(12,8))\n",
        "sns.histplot(data=data_xls, x='tip_amount')"
      ],
      "id": "broken-slide",
      "execution_count": 22,
      "outputs": [
        {
          "output_type": "execute_result",
          "data": {
            "text/plain": [
              "<matplotlib.axes._subplots.AxesSubplot at 0x7f6ab4d1b890>"
            ]
          },
          "metadata": {
            "tags": []
          },
          "execution_count": 22
        },
        {
          "output_type": "display_data",
          "data": {
            "image/png": "[encoded data removed]",
            "text/plain": [
              "<Figure size 864x576 with 1 Axes>"
            ]
          },
          "metadata": {
            "tags": [],
            "needs_background": "light"
          }
        }
      ]
    },
    {
      "cell_type": "markdown",
      "metadata": {
        "papermill": {
          "duration": 0.045273,
          "end_time": "2021-04-18T17:53:25.318675",
          "exception": false,
          "start_time": "2021-04-18T17:53:25.273402",
          "status": "completed"
        },
        "tags": [],
        "id": "exotic-miniature"
      },
      "source": [
        "**Bi variate Analysis**\n",
        "*  we will see the relationships between the individual features"
      ],
      "id": "exotic-miniature"
    },
    {
      "cell_type": "code",
      "metadata": {
        "execution": {
          "iopub.execute_input": "2021-04-18T17:53:25.415329Z",
          "iopub.status.busy": "2021-04-18T17:53:25.414194Z",
          "iopub.status.idle": "2021-04-18T17:53:28.947181Z",
          "shell.execute_reply": "2021-04-18T17:53:28.947748Z"
        },
        "papermill": {
          "duration": 3.584096,
          "end_time": "2021-04-18T17:53:28.947921",
          "exception": false,
          "start_time": "2021-04-18T17:53:25.363825",
          "status": "completed"
        },
        "tags": [],
        "colab": {
          "base_uri": "https://localhost:8080/",
          "height": 768
        },
        "id": "compressed-shape",
        "outputId": "d856c05b-764e-4848-b609-03722646e012"
      },
      "source": [
        "\n",
        "sns.catplot(x=\"passenger_count\", y='tip_amount', data=data_xls)\n",
        "sns.catplot(x=\"passenger_count\", y='total_amount' ,data=data_xls)\n"
      ],
      "id": "compressed-shape",
      "execution_count": 23,
      "outputs": [
        {
          "output_type": "execute_result",
          "data": {
            "text/plain": [
              "<seaborn.axisgrid.FacetGrid at 0x7f6ab4471e50>"
            ]
          },
          "metadata": {
            "tags": []
          },
          "execution_count": 23
        },
        {
          "output_type": "display_data",
          "data": {
            "image/png": "[encoded data removed]",
            "text/plain": [
              "<Figure size 360x360 with 1 Axes>"
            ]
          },
          "metadata": {
            "tags": [],
            "needs_background": "light"
          }
        },
        {
          "output_type": "display_data",
          "data": {
            "image/png": "[encoded data removed]",
            "text/plain": [
              "<Figure size 360x360 with 1 Axes>"
            ]
          },
          "metadata": {
            "tags": [],
            "needs_background": "light"
          }
        }
      ]
    },
    {
      "cell_type": "markdown",
      "metadata": {
        "papermill": {
          "duration": 0.04771,
          "end_time": "2021-04-18T17:53:29.044275",
          "exception": false,
          "start_time": "2021-04-18T17:53:28.996565",
          "status": "completed"
        },
        "tags": [],
        "id": "acute-plain"
      },
      "source": [
        "* We can see the tip amount is high when passenger count in the trip is just one.\n",
        "* We can also see that the total amount paid is high when passenger count is one."
      ],
      "id": "acute-plain"
    },
    {
      "cell_type": "code",
      "metadata": {
        "execution": {
          "iopub.execute_input": "2021-04-18T17:53:29.154872Z",
          "iopub.status.busy": "2021-04-18T17:53:29.144624Z",
          "iopub.status.idle": "2021-04-18T17:53:34.881002Z",
          "shell.execute_reply": "2021-04-18T17:53:34.880474Z"
        },
        "papermill": {
          "duration": 5.788561,
          "end_time": "2021-04-18T17:53:34.881157",
          "exception": false,
          "start_time": "2021-04-18T17:53:29.092596",
          "status": "completed"
        },
        "tags": [],
        "colab": {
          "base_uri": "https://localhost:8080/",
          "height": 351
        },
        "id": "circular-providence",
        "outputId": "a29cb198-63f8-447d-c548-aba10a60a740"
      },
      "source": [
        "figure,(ax7,ax8)=plt.subplots(ncols=2,figsize=(20,5))\n",
        "ax7.set_title('Pick up day vs Tip Amount')\n",
        "ax=sns.lineplot(x=\"pickup_day\",y='tip_amount',data=data_xls,ax=ax7)\n",
        "ax8.set_title('Pick up day vs Total Amount')\n",
        "ax=sns.lineplot(x=\"pickup_day\",y='total_amount',data=data_xls,ax=ax8)"
      ],
      "id": "circular-providence",
      "execution_count": 24,
      "outputs": [
        {
          "output_type": "display_data",
          "data": {
            "image/png": "[encoded data removed]",
            "text/plain": [
              "<Figure size 1440x360 with 2 Axes>"
            ]
          },
          "metadata": {
            "tags": [],
            "needs_background": "light"
          }
        }
      ]
    },
    {
      "cell_type": "markdown",
      "metadata": {
        "papermill": {
          "duration": 0.050888,
          "end_time": "2021-04-18T17:53:34.982954",
          "exception": false,
          "start_time": "2021-04-18T17:53:34.932066",
          "status": "completed"
        },
        "tags": [],
        "id": "altered-telling"
      },
      "source": [
        "We can see that the tip amount is highest on sundays and lowest on saturdays for pickup days and also the total amount is also highest on sundays while it is lowest on saturdays. So it is better to run less trips on saturdays to increase the profits."
      ],
      "id": "altered-telling"
    },
    {
      "cell_type": "code",
      "metadata": {
        "execution": {
          "iopub.execute_input": "2021-04-18T17:53:35.108821Z",
          "iopub.status.busy": "2021-04-18T17:53:35.107907Z",
          "iopub.status.idle": "2021-04-18T17:53:40.775138Z",
          "shell.execute_reply": "2021-04-18T17:53:40.775651Z"
        },
        "papermill": {
          "duration": 5.741264,
          "end_time": "2021-04-18T17:53:40.775815",
          "exception": false,
          "start_time": "2021-04-18T17:53:35.034551",
          "status": "completed"
        },
        "tags": [],
        "colab": {
          "base_uri": "https://localhost:8080/",
          "height": 351
        },
        "id": "legal-spouse",
        "outputId": "c9a1da47-ca10-4af8-9a22-58683e3f5513"
      },
      "source": [
        "figure,(ax9,ax10)=plt.subplots(ncols=2,figsize=(20,5))\n",
        "ax9.set_title('Drop off day vs Tip Amount')\n",
        "ax=sns.lineplot(x=\"dropoff_day\",y='tip_amount',data=data_xls,ax=ax9)\n",
        "ax10.set_title('Drop off day vs Total Amount')\n",
        "ax=sns.lineplot(x=\"dropoff_day\",y='total_amount',data=data_xls,ax=ax10)"
      ],
      "id": "legal-spouse",
      "execution_count": 25,
      "outputs": [
        {
          "output_type": "display_data",
          "data": {
            "image/png": "[encoded data removed]",
            "text/plain": [
              "<Figure size 1440x360 with 2 Axes>"
            ]
          },
          "metadata": {
            "tags": [],
            "needs_background": "light"
          }
        }
      ]
    },
    {
      "cell_type": "markdown",
      "metadata": {
        "papermill": {
          "duration": 0.052329,
          "end_time": "2021-04-18T17:53:40.880993",
          "exception": false,
          "start_time": "2021-04-18T17:53:40.828664",
          "status": "completed"
        },
        "tags": [],
        "id": "bound-ceremony"
      },
      "source": [
        "We can observe the same trend for highest tip amount on Sundays and also the highest total amount collected is on Sundays for drop off days. \n",
        "From the above two plots we can clearly observe that by dropping the number of rides on satursays we can increase profits."
      ],
      "id": "bound-ceremony"
    },
    {
      "cell_type": "code",
      "metadata": {
        "execution": {
          "iopub.execute_input": "2021-04-18T17:53:40.992195Z",
          "iopub.status.busy": "2021-04-18T17:53:40.991488Z",
          "iopub.status.idle": "2021-04-18T17:53:41.015463Z",
          "shell.execute_reply": "2021-04-18T17:53:41.014939Z"
        },
        "id": "apparent-petite",
        "papermill": {
          "duration": 0.081425,
          "end_time": "2021-04-18T17:53:41.015595",
          "exception": false,
          "start_time": "2021-04-18T17:53:40.934170",
          "status": "completed"
        },
        "tags": [],
        "colab": {
          "base_uri": "https://localhost:8080/",
          "height": 97
        },
        "outputId": "1c2cb1ec-a3be-4454-b20d-a79a093e479c"
      },
      "source": [
        "#pick up and drop points that has highest tip\n",
        "data_xls.loc[data_xls.tip_amount == data_xls.tip_amount.max()]"
      ],
      "id": "apparent-petite",
      "execution_count": 26,
      "outputs": [
        {
          "output_type": "execute_result",
          "data": {
            "text/html": [
              "<div>\n",
              "<style scoped>\n",
              "    .dataframe tbody tr th:only-of-type {\n",
              "        vertical-align: middle;\n",
              "    }\n",
              "\n",
              "    .dataframe tbody tr th {\n",
              "        vertical-align: top;\n",
              "    }\n",
              "\n",
              "    .dataframe thead th {\n",
              "        text-align: right;\n",
              "    }\n",
              "</style>\n",
              "<table border=\"1\" class=\"dataframe\">\n",
              "  <thead>\n",
              "    <tr style=\"text-align: right;\">\n",
              "      <th></th>\n",
              "      <th>VendorID</th>\n",
              "      <th>passenger_count</th>\n",
              "      <th>trip_distance</th>\n",
              "      <th>RatecodeID</th>\n",
              "      <th>store_and_fwd_flag</th>\n",
              "      <th>PULocationID</th>\n",
              "      <th>DOLocationID</th>\n",
              "      <th>payment_type</th>\n",
              "      <th>fare_amount</th>\n",
              "      <th>extra</th>\n",
              "      <th>mta_tax</th>\n",
              "      <th>tip_amount</th>\n",
              "      <th>tolls_amount</th>\n",
              "      <th>improvement_surcharge</th>\n",
              "      <th>total_amount</th>\n",
              "      <th>congestion_surcharge</th>\n",
              "      <th>pickup_day</th>\n",
              "      <th>dropoff_day</th>\n",
              "      <th>pickup_hour</th>\n",
              "      <th>dropoff_hour</th>\n",
              "      <th>pickup_month</th>\n",
              "      <th>dropoff_month</th>\n",
              "    </tr>\n",
              "  </thead>\n",
              "  <tbody>\n",
              "    <tr>\n",
              "      <th>58516</th>\n",
              "      <td>2.0</td>\n",
              "      <td>1.0</td>\n",
              "      <td>109.31</td>\n",
              "      <td>4.0</td>\n",
              "      <td>N</td>\n",
              "      <td>132</td>\n",
              "      <td>161</td>\n",
              "      <td>1.0</td>\n",
              "      <td>578.5</td>\n",
              "      <td>1.0</td>\n",
              "      <td>0.5</td>\n",
              "      <td>117.28</td>\n",
              "      <td>6.12</td>\n",
              "      <td>0.3</td>\n",
              "      <td>703.7</td>\n",
              "      <td>0.0</td>\n",
              "      <td>Wednesday</td>\n",
              "      <td>Wednesday</td>\n",
              "      <td>17</td>\n",
              "      <td>19</td>\n",
              "      <td>4</td>\n",
              "      <td>4</td>\n",
              "    </tr>\n",
              "  </tbody>\n",
              "</table>\n",
              "</div>"
            ],
            "text/plain": [
              "       VendorID  passenger_count  ...  pickup_month  dropoff_month\n",
              "58516       2.0              1.0  ...             4              4\n",
              "\n",
              "[1 rows x 22 columns]"
            ]
          },
          "metadata": {
            "tags": []
          },
          "execution_count": 26
        }
      ]
    },
    {
      "cell_type": "code",
      "metadata": {
        "execution": {
          "iopub.execute_input": "2021-04-18T17:53:41.131208Z",
          "iopub.status.busy": "2021-04-18T17:53:41.130563Z",
          "iopub.status.idle": "2021-04-18T17:53:41.161441Z",
          "shell.execute_reply": "2021-04-18T17:53:41.161968Z"
        },
        "id": "verbal-discovery",
        "papermill": {
          "duration": 0.092092,
          "end_time": "2021-04-18T17:53:41.162150",
          "exception": false,
          "start_time": "2021-04-18T17:53:41.070058",
          "status": "completed"
        },
        "tags": [],
        "colab": {
          "base_uri": "https://localhost:8080/",
          "height": 197
        },
        "outputId": "f6548df7-a36a-4c39-e9c2-9cfbb178c6d7"
      },
      "source": [
        "#load datset that has location names for location ids\n",
        "\n",
        "data_xls_1 = pd.read_csv('/content/taxi+_zone_lookup.csv')\n",
        "data_xls_1.head()"
      ],
      "id": "verbal-discovery",
      "execution_count": 28,
      "outputs": [
        {
          "output_type": "execute_result",
          "data": {
            "text/html": [
              "<div>\n",
              "<style scoped>\n",
              "    .dataframe tbody tr th:only-of-type {\n",
              "        vertical-align: middle;\n",
              "    }\n",
              "\n",
              "    .dataframe tbody tr th {\n",
              "        vertical-align: top;\n",
              "    }\n",
              "\n",
              "    .dataframe thead th {\n",
              "        text-align: right;\n",
              "    }\n",
              "</style>\n",
              "<table border=\"1\" class=\"dataframe\">\n",
              "  <thead>\n",
              "    <tr style=\"text-align: right;\">\n",
              "      <th></th>\n",
              "      <th>LocationID</th>\n",
              "      <th>Borough</th>\n",
              "      <th>Zone</th>\n",
              "      <th>service_zone</th>\n",
              "    </tr>\n",
              "  </thead>\n",
              "  <tbody>\n",
              "    <tr>\n",
              "      <th>0</th>\n",
              "      <td>1</td>\n",
              "      <td>EWR</td>\n",
              "      <td>Newark Airport</td>\n",
              "      <td>EWR</td>\n",
              "    </tr>\n",
              "    <tr>\n",
              "      <th>1</th>\n",
              "      <td>2</td>\n",
              "      <td>Queens</td>\n",
              "      <td>Jamaica Bay</td>\n",
              "      <td>Boro Zone</td>\n",
              "    </tr>\n",
              "    <tr>\n",
              "      <th>2</th>\n",
              "      <td>3</td>\n",
              "      <td>Bronx</td>\n",
              "      <td>Allerton/Pelham Gardens</td>\n",
              "      <td>Boro Zone</td>\n",
              "    </tr>\n",
              "    <tr>\n",
              "      <th>3</th>\n",
              "      <td>4</td>\n",
              "      <td>Manhattan</td>\n",
              "      <td>Alphabet City</td>\n",
              "      <td>Yellow Zone</td>\n",
              "    </tr>\n",
              "    <tr>\n",
              "      <th>4</th>\n",
              "      <td>5</td>\n",
              "      <td>Staten Island</td>\n",
              "      <td>Arden Heights</td>\n",
              "      <td>Boro Zone</td>\n",
              "    </tr>\n",
              "  </tbody>\n",
              "</table>\n",
              "</div>"
            ],
            "text/plain": [
              "   LocationID        Borough                     Zone service_zone\n",
              "0           1            EWR           Newark Airport          EWR\n",
              "1           2         Queens              Jamaica Bay    Boro Zone\n",
              "2           3          Bronx  Allerton/Pelham Gardens    Boro Zone\n",
              "3           4      Manhattan            Alphabet City  Yellow Zone\n",
              "4           5  Staten Island            Arden Heights    Boro Zone"
            ]
          },
          "metadata": {
            "tags": []
          },
          "execution_count": 28
        }
      ]
    },
    {
      "cell_type": "code",
      "metadata": {
        "execution": {
          "iopub.execute_input": "2021-04-18T17:53:41.274102Z",
          "iopub.status.busy": "2021-04-18T17:53:41.273193Z",
          "iopub.status.idle": "2021-04-18T17:53:41.297273Z",
          "shell.execute_reply": "2021-04-18T17:53:41.297710Z"
        },
        "id": "second-colleague",
        "papermill": {
          "duration": 0.081222,
          "end_time": "2021-04-18T17:53:41.297884",
          "exception": false,
          "start_time": "2021-04-18T17:53:41.216662",
          "status": "completed"
        },
        "tags": [],
        "colab": {
          "base_uri": "https://localhost:8080/",
          "height": 97
        },
        "outputId": "93c31e81-45e7-4c35-97a2-9823cab9715f"
      },
      "source": [
        "#Maximum tip amount\n",
        "\n",
        "data_xls.loc[data_xls.tip_amount == data_xls.tip_amount.max()]"
      ],
      "id": "second-colleague",
      "execution_count": 29,
      "outputs": [
        {
          "output_type": "execute_result",
          "data": {
            "text/html": [
              "<div>\n",
              "<style scoped>\n",
              "    .dataframe tbody tr th:only-of-type {\n",
              "        vertical-align: middle;\n",
              "    }\n",
              "\n",
              "    .dataframe tbody tr th {\n",
              "        vertical-align: top;\n",
              "    }\n",
              "\n",
              "    .dataframe thead th {\n",
              "        text-align: right;\n",
              "    }\n",
              "</style>\n",
              "<table border=\"1\" class=\"dataframe\">\n",
              "  <thead>\n",
              "    <tr style=\"text-align: right;\">\n",
              "      <th></th>\n",
              "      <th>VendorID</th>\n",
              "      <th>passenger_count</th>\n",
              "      <th>trip_distance</th>\n",
              "      <th>RatecodeID</th>\n",
              "      <th>store_and_fwd_flag</th>\n",
              "      <th>PULocationID</th>\n",
              "      <th>DOLocationID</th>\n",
              "      <th>payment_type</th>\n",
              "      <th>fare_amount</th>\n",
              "      <th>extra</th>\n",
              "      <th>mta_tax</th>\n",
              "      <th>tip_amount</th>\n",
              "      <th>tolls_amount</th>\n",
              "      <th>improvement_surcharge</th>\n",
              "      <th>total_amount</th>\n",
              "      <th>congestion_surcharge</th>\n",
              "      <th>pickup_day</th>\n",
              "      <th>dropoff_day</th>\n",
              "      <th>pickup_hour</th>\n",
              "      <th>dropoff_hour</th>\n",
              "      <th>pickup_month</th>\n",
              "      <th>dropoff_month</th>\n",
              "    </tr>\n",
              "  </thead>\n",
              "  <tbody>\n",
              "    <tr>\n",
              "      <th>58516</th>\n",
              "      <td>2.0</td>\n",
              "      <td>1.0</td>\n",
              "      <td>109.31</td>\n",
              "      <td>4.0</td>\n",
              "      <td>N</td>\n",
              "      <td>132</td>\n",
              "      <td>161</td>\n",
              "      <td>1.0</td>\n",
              "      <td>578.5</td>\n",
              "      <td>1.0</td>\n",
              "      <td>0.5</td>\n",
              "      <td>117.28</td>\n",
              "      <td>6.12</td>\n",
              "      <td>0.3</td>\n",
              "      <td>703.7</td>\n",
              "      <td>0.0</td>\n",
              "      <td>Wednesday</td>\n",
              "      <td>Wednesday</td>\n",
              "      <td>17</td>\n",
              "      <td>19</td>\n",
              "      <td>4</td>\n",
              "      <td>4</td>\n",
              "    </tr>\n",
              "  </tbody>\n",
              "</table>\n",
              "</div>"
            ],
            "text/plain": [
              "       VendorID  passenger_count  ...  pickup_month  dropoff_month\n",
              "58516       2.0              1.0  ...             4              4\n",
              "\n",
              "[1 rows x 22 columns]"
            ]
          },
          "metadata": {
            "tags": []
          },
          "execution_count": 29
        }
      ]
    },
    {
      "cell_type": "code",
      "metadata": {
        "execution": {
          "iopub.execute_input": "2021-04-18T17:53:41.410121Z",
          "iopub.status.busy": "2021-04-18T17:53:41.409230Z",
          "iopub.status.idle": "2021-04-18T17:53:41.422061Z",
          "shell.execute_reply": "2021-04-18T17:53:41.422541Z"
        },
        "id": "peaceful-stage",
        "papermill": {
          "duration": 0.07062,
          "end_time": "2021-04-18T17:53:41.422696",
          "exception": false,
          "start_time": "2021-04-18T17:53:41.352076",
          "status": "completed"
        },
        "tags": [],
        "colab": {
          "base_uri": "https://localhost:8080/",
          "height": 107
        },
        "outputId": "ddb31369-8938-481d-f942-e700f52f38f7"
      },
      "source": [
        "# Finding the location for the corresponding location ids\n",
        "pick_loc = data_xls_1.loc[data_xls_1.LocationID == 132]\n",
        "\n",
        "drop_loc = data_xls_1.loc[data_xls_1.LocationID == 161]\n",
        "\n",
        "f = pd.concat([pick_loc, drop_loc])\n",
        "f"
      ],
      "id": "peaceful-stage",
      "execution_count": 30,
      "outputs": [
        {
          "output_type": "execute_result",
          "data": {
            "text/html": [
              "<div>\n",
              "<style scoped>\n",
              "    .dataframe tbody tr th:only-of-type {\n",
              "        vertical-align: middle;\n",
              "    }\n",
              "\n",
              "    .dataframe tbody tr th {\n",
              "        vertical-align: top;\n",
              "    }\n",
              "\n",
              "    .dataframe thead th {\n",
              "        text-align: right;\n",
              "    }\n",
              "</style>\n",
              "<table border=\"1\" class=\"dataframe\">\n",
              "  <thead>\n",
              "    <tr style=\"text-align: right;\">\n",
              "      <th></th>\n",
              "      <th>LocationID</th>\n",
              "      <th>Borough</th>\n",
              "      <th>Zone</th>\n",
              "      <th>service_zone</th>\n",
              "    </tr>\n",
              "  </thead>\n",
              "  <tbody>\n",
              "    <tr>\n",
              "      <th>131</th>\n",
              "      <td>132</td>\n",
              "      <td>Queens</td>\n",
              "      <td>JFK Airport</td>\n",
              "      <td>Airports</td>\n",
              "    </tr>\n",
              "    <tr>\n",
              "      <th>160</th>\n",
              "      <td>161</td>\n",
              "      <td>Manhattan</td>\n",
              "      <td>Midtown Center</td>\n",
              "      <td>Yellow Zone</td>\n",
              "    </tr>\n",
              "  </tbody>\n",
              "</table>\n",
              "</div>"
            ],
            "text/plain": [
              "     LocationID    Borough            Zone service_zone\n",
              "131         132     Queens     JFK Airport     Airports\n",
              "160         161  Manhattan  Midtown Center  Yellow Zone"
            ]
          },
          "metadata": {
            "tags": []
          },
          "execution_count": 30
        }
      ]
    },
    {
      "cell_type": "code",
      "metadata": {
        "id": "IRH8twtLlkic"
      },
      "source": [
        ""
      ],
      "id": "IRH8twtLlkic",
      "execution_count": null,
      "outputs": []
    }
  ]
}